{
  "cells": [
    {
      "cell_type": "code",
      "execution_count": 18,
      "metadata": {
        "colab": {
          "base_uri": "https://localhost:8080/"
        },
        "id": "CSol1trWpDGT",
        "outputId": "fae567e1-9d83-4237-cb24-b55751f7dfac"
      },
      "outputs": [],
      "source": [
        "# Import necessary libraries\n",
        "from ultralytics import YOLO"
      ]
    },
    {
      "cell_type": "code",
      "execution_count": 19,
      "metadata": {
        "id": "V-zPmKGHXG0X"
      },
      "outputs": [],
      "source": [
        "model = YOLO(\"weights/bestV4.pt\")"
      ]
    },
    {
      "cell_type": "code",
      "execution_count": 20,
      "metadata": {
        "id": "feK596dDXG0h",
        "outputId": "088371fa-05f0-44f3-bf13-816aeda63873"
      },
      "outputs": [
        {
          "name": "stdout",
          "output_type": "stream",
          "text": [
            "\n",
            "image 1/1 c:\\Users\\samad\\Coding\\Tuwaiq\\capstone-project-team01\\training images\\IMG_0500.JPEG: 640x640 16 blacks, 32 emptys, 14 whites, 324.1ms\n",
            "Speed: 14.7ms preprocess, 324.1ms inference, 3.0ms postprocess per image at shape (1, 3, 640, 640)\n"
          ]
        }
      ],
      "source": [
        "results = model.predict('training images/IMG_0500.JPEG', conf=0.05)\n",
        "results[0].show()"
      ]
    },
    {
      "cell_type": "code",
      "execution_count": null,
      "metadata": {},
      "outputs": [],
      "source": []
    },
    {
      "cell_type": "code",
      "execution_count": 21,
      "metadata": {},
      "outputs": [],
      "source": [
        "# Function to get the board coordinates\n",
        "def get_board_coordinates(xyxy):\n",
        "    min_x = xyxy[:, 0].min().item()\n",
        "    max_x = xyxy[:, 2].max().item()\n",
        "    min_y = xyxy[:, 1].min().item()\n",
        "    max_y = xyxy[:, 3].max().item()\n",
        "    return min_x - 5, min_y - 5, max_x + 5, max_y + 5"
      ]
    },
    {
      "cell_type": "code",
      "execution_count": 22,
      "metadata": {},
      "outputs": [
        {
          "name": "stdout",
          "output_type": "stream",
          "text": [
            "Crop coordinates: (158.50347900390625, 147.17041015625), (1539.111083984375, 1610.830810546875)\n"
          ]
        }
      ],
      "source": [
        "xyxy = results[0].boxes.xyxy\n",
        "min_x ,min_y ,max_x ,max_y = get_board_coordinates(xyxy)\n",
        "print(f\"Crop coordinates: ({min_x}, {min_y}), ({max_x}, {max_y})\")"
      ]
    },
    {
      "cell_type": "code",
      "execution_count": 23,
      "metadata": {},
      "outputs": [],
      "source": [
        "from PIL import Image"
      ]
    },
    {
      "cell_type": "code",
      "execution_count": 31,
      "metadata": {},
      "outputs": [
        {
          "name": "stdout",
          "output_type": "stream",
          "text": [
            "Cropped image saved as 'cropped_image.JPEG'.\n"
          ]
        }
      ],
      "source": [
        "# Open the image using Pillow\n",
        "image_path = 'training images/IMG_0500.JPEG'\n",
        "img = Image.open(image_path)\n",
        "\n",
        "# Crop the image\n",
        "cropped_img = img.crop((min_x, min_y, max_x, max_y))\n",
        "\n",
        "# Save the cropped image\n",
        "cropped_img.save('cropped_image.JPEG')\n",
        "print(\"Cropped image saved as 'cropped_image.JPEG'.\")"
      ]
    },
    {
      "cell_type": "code",
      "execution_count": 32,
      "metadata": {},
      "outputs": [
        {
          "name": "stdout",
          "output_type": "stream",
          "text": [
            "\n",
            "0: 640x608 16 blacks, 32 emptys, 15 whites, 255.9ms\n",
            "Speed: 21.6ms preprocess, 255.9ms inference, 4.0ms postprocess per image at shape (1, 3, 640, 608)\n"
          ]
        }
      ],
      "source": [
        "# predict based on cropped\n",
        "results = model.predict(cropped_img, conf=0.05)\n",
        "results[0].show()"
      ]
    },
    {
      "cell_type": "code",
      "execution_count": 33,
      "metadata": {},
      "outputs": [],
      "source": [
        "# Map detections to cells (reversed grid)\n",
        "def map_detections_to_spaces(boxes, spaces, classes, frame_shape, grid_rows, grid_cols):\n",
        "    # Initialize all spaces to \"initial\"\n",
        "    occupancy = {space: \"initial\" for space in spaces}\n",
        "    index = 0\n",
        "    \n",
        "    for box in boxes:\n",
        "        # Calculate the center of the box\n",
        "        x_center = (box[0] + box[2]) / 2\n",
        "        y_center = (box[1] + box[3]) / 2\n",
        "        \n",
        "        # Calculate row and column indices\n",
        "        row = int(y_center * grid_rows / frame_shape[0])\n",
        "        col = int(x_center * grid_cols / frame_shape[1])\n",
        "        \n",
        "        # Clamp row and column indices to valid grid bounds\n",
        "        row = max(0, min(row, grid_rows - 1))  # Ensure 0 <= row < grid_rows\n",
        "        col = max(0, min(col, grid_cols - 1))  # Ensure 0 <= col < grid_cols\n",
        "        \n",
        "        # Map to a space identifier, reversed for rows\n",
        "        space = f\"{chr(72 - row)}{col + 1}\"  # Reverse row index to start from 'H' (72)\n",
        "        occupancy[space] = classes[index]\n",
        "        \n",
        "        index += 1\n",
        "    return occupancy\n",
        "    "
      ]
    },
    {
      "cell_type": "code",
      "execution_count": 34,
      "metadata": {},
      "outputs": [],
      "source": [
        "grid_rows = grid_cols = 8\n",
        "\n",
        "# Create a grid for spaces (reversed order)\n",
        "def create_grid(grid_rows, grid_cols):\n",
        "    spaces = []\n",
        "    for i in range(grid_rows):\n",
        "        for j in range(grid_cols):\n",
        "            spaces.append(f\"{chr(72 - i)}{j + 1}\")  # Start from 'H' (72 in ASCII)\n",
        "    return spaces\n",
        "spaces = create_grid(grid_rows, grid_cols)"
      ]
    },
    {
      "cell_type": "code",
      "execution_count": 35,
      "metadata": {},
      "outputs": [],
      "source": [
        "boxes = results[0].boxes.xyxy.cpu().numpy() if results else []\n",
        "\n",
        "predicted_classes = results[0].boxes.cls  # `cls` contains the class indices\n",
        "class_names = model.names  # Assuming the model has a `names` attribute for class labels\n",
        "predicted_class_names = [class_names[int(cls_idx)] for cls_idx in predicted_classes]"
      ]
    },
    {
      "cell_type": "code",
      "execution_count": 36,
      "metadata": {},
      "outputs": [
        {
          "data": {
            "text/plain": [
              "'initial'"
            ]
          },
          "execution_count": 36,
          "metadata": {},
          "output_type": "execute_result"
        }
      ],
      "source": [
        "occupancy = map_detections_to_spaces(boxes, spaces, predicted_class_names, cropped_img.size, 8, 8)\n",
        "occupancy['A8']"
      ]
    },
    {
      "cell_type": "code",
      "execution_count": null,
      "metadata": {},
      "outputs": [
        {
          "name": "stdout",
          "output_type": "stream",
          "text": [
            "['black', 'black', 'black', 'black', 'black', 'black', 'black', 'initial']\n",
            "['black', 'black', 'black', 'black', 'black', 'black', 'black', 'initial']\n",
            "['empty', 'empty', 'empty', 'empty', 'empty', 'empty', 'empty', 'initial']\n",
            "['empty', 'empty', 'empty', 'empty', 'empty', 'empty', 'empty', 'initial']\n",
            "['empty', 'empty', 'empty', 'empty', 'empty', 'empty', 'white', 'initial']\n",
            "['empty', 'empty', 'empty', 'empty', 'empty', 'empty', 'empty', 'initial']\n",
            "['white', 'white', 'white', 'white', 'white', 'white', 'white', 'empty']\n",
            "['white', 'white', 'white', 'white', 'white', 'white', 'white', 'initial']\n"
          ]
        }
      ],
      "source": [
        "def map_occupancy_to_board_status(occupancy):\n",
        "    # Mapping rows and columns to a 2D array\n",
        "    rows = ['H', 'G', 'F', 'E', 'D', 'C', 'B', 'A']\n",
        "    columns = ['1', '2', '3', '4', '5', '6', '7', '8']\n",
        "\n",
        "    new_board_status = []\n",
        "\n",
        "    for row in rows:\n",
        "        row_data = []\n",
        "        for col in columns:\n",
        "            key = f\"{row}{col}\"\n",
        "            cell_value = occupancy[key]\n",
        "            row_data.append(cell_value)\n",
        "        new_board_status.append(row_data)\n",
        "    \n",
        "    return new_board_status\n",
        "\n",
        "new_board_status = map_occupancy_to_board_status(occupancy)\n",
        "\n",
        "# Print the resulting 2D array\n",
        "for row in new_board_status:\n",
        "    print(row)"
      ]
    }
  ],
  "metadata": {
    "accelerator": "GPU",
    "colab": {
      "gpuType": "T4",
      "provenance": []
    },
    "kernelspec": {
      "display_name": "Python 3",
      "name": "python3"
    },
    "language_info": {
      "codemirror_mode": {
        "name": "ipython",
        "version": 3
      },
      "file_extension": ".py",
      "mimetype": "text/x-python",
      "name": "python",
      "nbconvert_exporter": "python",
      "pygments_lexer": "ipython3",
      "version": "3.12.7"
    }
  },
  "nbformat": 4,
  "nbformat_minor": 0
}
