{
 "cells": [
  {
   "cell_type": "code",
   "execution_count": 49,
   "metadata": {},
   "outputs": [],
   "source": [
    "def detect_move(previous_board_status, new_board_status, chessboard):\n",
    "    '''\n",
    "        detects the move based on the model's output.\n",
    "    '''\n",
    "    # TODO: elimination detection\n",
    "    # TODO: exception if 2 moves detected\n",
    "    # TODO: detect switch\n",
    "    move = {}\n",
    "    \n",
    "    # Identify the change in board status by comparing previous and new statuses\n",
    "    for row in range(len(previous_board_status)):\n",
    "        for col in range(len(previous_board_status[row])):\n",
    "            # If the status has changed (from 'empty' to a piece or from one piece to another)\n",
    "            if previous_board_status[row][col] != new_board_status[row][col]:\n",
    "                if new_board_status[row][col] == 'empty' and previous_board_status[row][col] != 'empty':\n",
    "                    # Piece has moved from this position\n",
    "                    move['start'] = (row, col)\n",
    "                    move['piece'] = chessboard[row][col]\n",
    "                elif previous_board_status[row][col] == 'empty' and new_board_status[row][col] != 'empty':\n",
    "                    # Piece has moved this this position\n",
    "                    move['end'] = (row, col)\n",
    "                elif previous_board_status[row][col] == 'black' and new_board_status[row][col] == 'white':\n",
    "                    # white eliminated black\n",
    "                    move['end'] = (row, col)\n",
    "                    move['eliminated'] = chessboard[row][col]\n",
    "                elif previous_board_status[row][col] == 'white' and new_board_status[row][col] == 'black':\n",
    "                    # black eliminated white\n",
    "                    move['end'] = (row, col)\n",
    "                    move['eliminated'] = chessboard[row][col]\n",
    "\n",
    "    return move\n",
    "\n",
    "# when the move is detected we update the chessboad \n",
    "def update_chessboard(move, chessboard):\n",
    "    # Get the starting and ending coordinates of the move\n",
    "    start = move['start']\n",
    "    end = move['end']\n",
    "    piece = move['piece']\n",
    "    \n",
    "    # Update the chessboard by moving the piece\n",
    "    chessboard[start[0]][start[1]] = '.'  # Empty the starting square\n",
    "    chessboard[end[0]][end[1]] = piece    # Place the piece on the ending square\n",
    "    return chessboard\n"
   ]
  },
  {
   "cell_type": "code",
   "execution_count": 50,
   "metadata": {},
   "outputs": [],
   "source": [
    "chessboard = [\n",
    "    ['br', 'bn', 'bb', 'bq', 'bk', 'bb', 'bn', 'br'],  # Black pieces\n",
    "    ['bp', 'bp', 'bp', 'bp', 'bp', 'bp', 'bp', 'bp'],  # Black pawns\n",
    "    ['.', '.', '.', '.', '.', '.', '.', '.'],          # Empty squares\n",
    "    ['.', '.', '.', '.', '.', '.', '.', '.'],          # Empty squares\n",
    "    ['.', '.', '.', '.', '.', '.', '.', '.'],          # Empty squares\n",
    "    ['.', '.', '.', '.', '.', '.', '.', '.'],          # Empty squares\n",
    "    ['wp', 'wp', 'wp', 'wp', 'wp', 'wp', 'wp', 'wp'],  # White pawns\n",
    "    ['wr', 'wn', 'wb', 'wq', 'wk', 'wb', 'wn', 'wr']   # White pieces\n",
    "]\n",
    "history = []\n",
    "\n",
    "previous_board_status = [\n",
    "    ['black', 'black', 'black', 'black', 'black', 'black', 'black', 'black'],  # Black pieces\n",
    "    ['black', 'black', 'black', 'black', 'black', 'black', 'black', 'black'],  # Black pawns\n",
    "    ['empty', 'empty', 'empty', 'empty', 'empty', 'empty', 'empty', 'empty'],  # Empty squares\n",
    "    ['empty', 'empty', 'empty', 'empty', 'empty', 'empty', 'empty', 'empty'],  # Empty squares\n",
    "    ['empty', 'empty', 'empty', 'empty', 'empty', 'empty', 'empty', 'empty'],  # Empty squares\n",
    "    ['empty', 'empty', 'empty', 'empty', 'empty', 'empty', 'empty', 'empty'],  # Empty squares\n",
    "    ['white', 'white', 'white', 'white', 'white', 'white', 'white', 'white'],  # White pawns\n",
    "    ['white', 'white', 'white', 'white', 'white', 'white', 'white', 'white']   # White pieces\n",
    "]"
   ]
  },
  {
   "cell_type": "code",
   "execution_count": 54,
   "metadata": {},
   "outputs": [],
   "source": [
    "new_board_status = [\n",
    "    ['black', 'black', 'black', 'black', 'black', 'black', 'black', 'black'],  # Black pieces\n",
    "    ['black', 'black', 'black', 'empty', 'black', 'black', 'black', 'black'],  # Black pawns\n",
    "    ['empty', 'empty', 'empty', 'empty', 'empty', 'empty', 'empty', 'empty'],  # Empty squares\n",
    "    ['empty', 'empty', 'empty', 'empty', 'empty', 'empty', 'empty', 'empty'],  # Empty squares\n",
    "    ['empty', 'empty', 'empty', 'black', 'empty', 'empty', 'empty', 'empty'],  # Empty squares\n",
    "    ['empty', 'empty', 'empty', 'empty', 'empty', 'empty', 'empty', 'empty'],  # Empty squares\n",
    "    ['white', 'white', 'white', 'empty', 'white', 'white', 'white', 'white'],  # White pawns\n",
    "    ['white', 'white', 'white', 'white', 'white', 'white', 'white', 'white']   # White pieces\n",
    "]"
   ]
  },
  {
   "cell_type": "code",
   "execution_count": 55,
   "metadata": {},
   "outputs": [
    {
     "data": {
      "text/plain": [
       "[{'end': (4, 3), 'start': (6, 3), 'piece': 'wp'},\n",
       " {'start': (1, 3), 'piece': 'bp', 'end': (4, 3), 'eliminated': 'wp'}]"
      ]
     },
     "execution_count": 55,
     "metadata": {},
     "output_type": "execute_result"
    }
   ],
   "source": [
    "move = detect_move(previous_board_status, new_board_status, chessboard)\n",
    "previous_board_status = new_board_status\n",
    "history.append(move)\n",
    "history"
   ]
  },
  {
   "cell_type": "code",
   "execution_count": 56,
   "metadata": {},
   "outputs": [
    {
     "data": {
      "text/plain": [
       "[['br', 'bn', 'bb', 'bq', 'bk', 'bb', 'bn', 'br'],\n",
       " ['bp', 'bp', 'bp', '.', 'bp', 'bp', 'bp', 'bp'],\n",
       " ['.', '.', '.', '.', '.', '.', '.', '.'],\n",
       " ['.', '.', '.', '.', '.', '.', '.', '.'],\n",
       " ['.', '.', '.', 'bp', '.', '.', '.', '.'],\n",
       " ['.', '.', '.', '.', '.', '.', '.', '.'],\n",
       " ['wp', 'wp', 'wp', '.', 'wp', 'wp', 'wp', 'wp'],\n",
       " ['wr', 'wn', 'wb', 'wq', 'wk', 'wb', 'wn', 'wr']]"
      ]
     },
     "execution_count": 56,
     "metadata": {},
     "output_type": "execute_result"
    }
   ],
   "source": [
    "chessboard = update_chessboard(move, chessboard)\n",
    "chessboard"
   ]
  }
 ],
 "metadata": {
  "kernelspec": {
   "display_name": "Python 3",
   "language": "python",
   "name": "python3"
  },
  "language_info": {
   "codemirror_mode": {
    "name": "ipython",
    "version": 3
   },
   "file_extension": ".py",
   "mimetype": "text/x-python",
   "name": "python",
   "nbconvert_exporter": "python",
   "pygments_lexer": "ipython3",
   "version": "3.12.7"
  }
 },
 "nbformat": 4,
 "nbformat_minor": 2
}
