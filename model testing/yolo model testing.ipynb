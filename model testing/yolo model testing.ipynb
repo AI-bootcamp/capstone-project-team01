{
  "cells": [
    {
      "cell_type": "code",
      "execution_count": 53,
      "metadata": {
        "colab": {
          "base_uri": "https://localhost:8080/"
        },
        "id": "CSol1trWpDGT",
        "outputId": "fae567e1-9d83-4237-cb24-b55751f7dfac"
      },
      "outputs": [],
      "source": [
        "# Import necessary libraries\n",
        "from ultralytics import YOLO\n",
        "from PIL import Image"
      ]
    },
    {
      "cell_type": "code",
      "execution_count": 54,
      "metadata": {
        "id": "V-zPmKGHXG0X"
      },
      "outputs": [],
      "source": [
        "model = YOLO(\"weights/bestV4.pt\")"
      ]
    },
    {
      "cell_type": "code",
      "execution_count": 55,
      "metadata": {},
      "outputs": [],
      "source": [
        "image_path = 'training images/2.jpg'"
      ]
    },
    {
      "cell_type": "code",
      "execution_count": 56,
      "metadata": {
        "id": "feK596dDXG0h",
        "outputId": "088371fa-05f0-44f3-bf13-816aeda63873"
      },
      "outputs": [
        {
          "name": "stdout",
          "output_type": "stream",
          "text": [
            "\n",
            "image 1/1 c:\\Users\\samad\\Coding\\Tuwaiq\\capstone-project-team01\\training images\\2.jpg: 640x640 16 blacks, 32 emptys, 13 whites, 233.7ms\n",
            "Speed: 14.4ms preprocess, 233.7ms inference, 0.0ms postprocess per image at shape (1, 3, 640, 640)\n"
          ]
        }
      ],
      "source": [
        "results = model.predict(image_path, conf=0.05)\n",
        "results[0].show()"
      ]
    },
    {
      "cell_type": "code",
      "execution_count": 57,
      "metadata": {},
      "outputs": [],
      "source": [
        "# Function to get the board coordinates\n",
        "def get_board_coordinates(xyxy):\n",
        "    min_x = xyxy[:, 0].min().item()\n",
        "    max_x = xyxy[:, 2].max().item()\n",
        "    min_y = xyxy[:, 1].min().item()\n",
        "    max_y = xyxy[:, 3].max().item()\n",
        "    return min_x - 5, min_y - 5, max_x + 5, max_y + 5"
      ]
    },
    {
      "cell_type": "code",
      "execution_count": 58,
      "metadata": {},
      "outputs": [
        {
          "name": "stdout",
          "output_type": "stream",
          "text": [
            "Crop coordinates: (333.1723937988281, 241.5214080810547), (2659.246826171875, 2708.675048828125)\n"
          ]
        }
      ],
      "source": [
        "xyxy = results[0].boxes.xyxy\n",
        "min_x ,min_y ,max_x ,max_y = get_board_coordinates(xyxy)\n",
        "print(f\"Crop coordinates: ({min_x}, {min_y}), ({max_x}, {max_y})\")"
      ]
    },
    {
      "cell_type": "code",
      "execution_count": 59,
      "metadata": {},
      "outputs": [
        {
          "name": "stdout",
          "output_type": "stream",
          "text": [
            "3024 ,  3024\n"
          ]
        }
      ],
      "source": [
        "img = Image.open(image_path)\n",
        "width, height = img.size\n",
        "print(width, ', ', height)"
      ]
    },
    {
      "cell_type": "code",
      "execution_count": 60,
      "metadata": {},
      "outputs": [
        {
          "name": "stdout",
          "output_type": "stream",
          "text": [
            "315.324951171875 ,  364.753173828125 ,  241.5214080810547 ,  333.1723937988281\n"
          ]
        }
      ],
      "source": [
        "lm = min_x\n",
        "rm = width - max_x\n",
        "bm = min_y\n",
        "tm = height - max_y\n",
        "print(tm, ', ', rm, ', ', bm, ', ', lm)\n"
      ]
    },
    {
      "cell_type": "code",
      "execution_count": 61,
      "metadata": {},
      "outputs": [
        {
          "data": {
            "text/plain": [
              "(2326.074432373047, 2467.1536407470703)"
            ]
          },
          "execution_count": 61,
          "metadata": {},
          "output_type": "execute_result"
        }
      ],
      "source": [
        "new_shape = ((width - (lm + rm)), (height - (tm + bm)))\n",
        "new_shape"
      ]
    },
    {
      "cell_type": "code",
      "execution_count": 62,
      "metadata": {},
      "outputs": [],
      "source": [
        "# # Open the image using Pillow\n",
        "# img = Image.open(image_path)\n",
        "\n",
        "# # Crop the image\n",
        "# cropped_img = img.crop((min_x, min_y, max_x, max_y))\n",
        "\n",
        "# # Save the cropped image\n",
        "# cropped_img.save('cropped_image.JPEG')\n",
        "# print(\"Cropped image saved as 'cropped_image.JPEG'.\")"
      ]
    },
    {
      "cell_type": "code",
      "execution_count": 63,
      "metadata": {},
      "outputs": [],
      "source": [
        "# predict based on cropped\n",
        "# results = model.predict(cropped_img, conf=0.05)\n",
        "# results[0].show()"
      ]
    },
    {
      "cell_type": "code",
      "execution_count": 64,
      "metadata": {},
      "outputs": [],
      "source": [
        "grid_rows = grid_cols = 8\n",
        "\n",
        "# Create a grid for spaces (reversed order)\n",
        "def create_grid(grid_rows, grid_cols):\n",
        "    spaces = []\n",
        "    for i in range(grid_rows):\n",
        "        for j in range(grid_cols):\n",
        "            spaces.append(f\"{chr(72 - i)}{j + 1}\")  # Start from 'H' (72 in ASCII)\n",
        "    return spaces\n",
        "spaces = create_grid(grid_rows, grid_cols)"
      ]
    },
    {
      "cell_type": "code",
      "execution_count": 75,
      "metadata": {},
      "outputs": [],
      "source": [
        "# Map detections to cells (reversed grid)\n",
        "def map_detections_to_spaces(boxes, spaces, classes, frame_shape, grid_rows, grid_cols):\n",
        "    # Initialize all spaces to \"initial\"\n",
        "    occupancy = {space: \"initial\" for space in spaces}\n",
        "    index = 0\n",
        "    row_ratio = grid_rows / frame_shape[0]\n",
        "    col_ratio = grid_cols / frame_shape[1]\n",
        "\n",
        "    row_size = 1 / row_ratio\n",
        "    cells = []\n",
        "    for box in boxes:\n",
        "        # Calculate the center of the box\n",
        "        # x_center = (box[0] + box[2]) / 2\n",
        "        x_center = ((box[0] + box[2]) / 2) + ( 0.25 * row_size) - lm\n",
        "        y_center = ((box[1] + box[3]) / 2) - bm\n",
        "\n",
        "\n",
        "        # Calculate row and column indices\n",
        "        row = int(y_center * row_ratio)\n",
        "        col = int(x_center * col_ratio)\n",
        "\n",
        "        # Clamp row and column indices to valid grid bounds\n",
        "        row = max(0, min(row, grid_rows - 1))  # Ensure 0 <= row < grid_rows\n",
        "        col = max(0, min(col, grid_cols - 1))  # Ensure 0 <= col < grid_cols\n",
        "\n",
        "        # Map to a space identifier, reversed for rows\n",
        "        space = f\"{chr(72 - row)}{col + 1}\"  # Reverse row index to start from 'H' (72)\n",
        "        occupancy[space] = classes[index]\n",
        "        cells.append(f'box{index}: class: {classes[index]}, space: {space}')\n",
        "        index += 1\n",
        "        \n",
        "    return occupancy, cells\n",
        "    "
      ]
    },
    {
      "cell_type": "code",
      "execution_count": 66,
      "metadata": {},
      "outputs": [],
      "source": [
        "boxes = results[0].boxes.xyxy.cpu().numpy() if results else []\n",
        "\n",
        "predicted_classes = results[0].boxes.cls  # `cls` contains the class indices\n",
        "class_names = model.names  # Assuming the model has a `names` attribute for class labels\n",
        "predicted_class_names = [class_names[int(cls_idx)] for cls_idx in predicted_classes]"
      ]
    },
    {
      "cell_type": "code",
      "execution_count": 77,
      "metadata": {},
      "outputs": [
        {
          "name": "stdout",
          "output_type": "stream",
          "text": [
            "box46: class: white, space: B2\n",
            "box48: class: white, space: B3\n",
            "box50: class: empty, space: B6\n",
            "box51: class: white, space: B1\n",
            "box53: class: white, space: B8\n",
            "box54: class: white, space: B4\n",
            "box60: class: white, space: B5\n"
          ]
        },
        {
          "data": {
            "text/plain": [
              "61"
            ]
          },
          "execution_count": 77,
          "metadata": {},
          "output_type": "execute_result"
        }
      ],
      "source": [
        "occupancy, cells = map_detections_to_spaces(boxes, spaces, predicted_class_names, new_shape, 8, 8)\n",
        "occupancy['B8']\n",
        "for c in cells:\n",
        "    if 'B' in c:\n",
        "        print(c)\n",
        "len(cells)"
      ]
    },
    {
      "cell_type": "code",
      "execution_count": 68,
      "metadata": {},
      "outputs": [
        {
          "name": "stdout",
          "output_type": "stream",
          "text": [
            "['black', 'black', 'black', 'black', 'black', 'black', 'black', 'black']\n",
            "['black', 'black', 'black', 'black', 'empty', 'black', 'black', 'black']\n",
            "['empty', 'empty', 'empty', 'empty', 'empty', 'empty', 'empty', 'empty']\n",
            "['empty', 'empty', 'empty', 'empty', 'black', 'empty', 'empty', 'empty']\n",
            "['empty', 'empty', 'empty', 'empty', 'empty', 'empty', 'empty', 'empty']\n",
            "['empty', 'empty', 'empty', 'empty', 'empty', 'initial', 'empty', 'empty']\n",
            "['white', 'white', 'white', 'white', 'white', 'empty', 'initial', 'white']\n",
            "['white', 'white', 'white', 'white', 'white', 'initial', 'white', 'white']\n"
          ]
        }
      ],
      "source": [
        "def map_occupancy_to_board_status(occupancy):\n",
        "    # Mapping rows and columns to a 2D array\n",
        "    rows = ['H', 'G', 'F', 'E', 'D', 'C', 'B', 'A']\n",
        "    columns = ['1', '2', '3', '4', '5', '6', '7', '8']\n",
        "\n",
        "    new_board_status = []\n",
        "\n",
        "    for row in rows:\n",
        "        row_data = []\n",
        "        for col in columns:\n",
        "            key = f\"{row}{col}\"\n",
        "            cell_value = occupancy[key]\n",
        "            row_data.append(cell_value)\n",
        "        new_board_status.append(row_data)\n",
        "    \n",
        "    return new_board_status\n",
        "\n",
        "new_board_status = map_occupancy_to_board_status(occupancy)\n",
        "\n",
        "# Print the resulting 2D array\n",
        "for row in new_board_status:\n",
        "    print(row)"
      ]
    }
  ],
  "metadata": {
    "accelerator": "GPU",
    "colab": {
      "gpuType": "T4",
      "provenance": []
    },
    "kernelspec": {
      "display_name": "Python 3",
      "name": "python3"
    },
    "language_info": {
      "codemirror_mode": {
        "name": "ipython",
        "version": 3
      },
      "file_extension": ".py",
      "mimetype": "text/x-python",
      "name": "python",
      "nbconvert_exporter": "python",
      "pygments_lexer": "ipython3",
      "version": "3.12.7"
    }
  },
  "nbformat": 4,
  "nbformat_minor": 0
}
