{
  "cells": [
    {
      "cell_type": "code",
      "execution_count": 1,
      "metadata": {
        "colab": {
          "base_uri": "https://localhost:8080/"
        },
        "id": "CSol1trWpDGT",
        "outputId": "fae567e1-9d83-4237-cb24-b55751f7dfac"
      },
      "outputs": [],
      "source": [
        "# Import necessary libraries\n",
        "from ultralytics import YOLO\n",
        "from PIL import Image"
      ]
    },
    {
      "cell_type": "code",
      "execution_count": 3,
      "metadata": {
        "id": "V-zPmKGHXG0X"
      },
      "outputs": [],
      "source": [
        "model = YOLO(\"../weights/bestV8.pt\")"
      ]
    },
    {
      "cell_type": "code",
      "execution_count": 94,
      "metadata": {},
      "outputs": [],
      "source": [
        "image_path = '../training images/other/IMG_0553.JPEG'"
      ]
    },
    {
      "cell_type": "code",
      "execution_count": 95,
      "metadata": {
        "id": "feK596dDXG0h",
        "outputId": "088371fa-05f0-44f3-bf13-816aeda63873"
      },
      "outputs": [
        {
          "name": "stdout",
          "output_type": "stream",
          "text": [
            "\n",
            "image 1/1 c:\\Users\\samad\\Coding\\Tuwaiq\\capstone-project-team01\\model testing\\..\\training images\\other\\IMG_0553.JPEG: 640x640 16 blacks, 32 emptys, 16 whites, 151.0ms\n",
            "Speed: 8.3ms preprocess, 151.0ms inference, 1.7ms postprocess per image at shape (1, 3, 640, 640)\n"
          ]
        }
      ],
      "source": [
        "results = model.predict(image_path, conf=0.9)\n",
        "results[0].show()"
      ]
    },
    {
      "cell_type": "code",
      "execution_count": 96,
      "metadata": {},
      "outputs": [],
      "source": [
        "# Function to get the board coordinates\n",
        "def get_board_coordinates(xyxy):\n",
        "    min_x = xyxy[:, 0].min().item()\n",
        "    max_x = xyxy[:, 2].max().item()\n",
        "    min_y = xyxy[:, 1].min().item()\n",
        "    max_y = xyxy[:, 3].max().item()\n",
        "    return min_x - 5, min_y - 5, max_x + 5, max_y + 5"
      ]
    },
    {
      "cell_type": "code",
      "execution_count": 97,
      "metadata": {},
      "outputs": [
        {
          "name": "stdout",
          "output_type": "stream",
          "text": [
            "Crop coordinates: (181.83790588378906, 148.9334716796875), (1633.6466064453125, 1506.87353515625)\n"
          ]
        }
      ],
      "source": [
        "xyxy = results[0].boxes.xyxy\n",
        "min_x ,min_y ,max_x ,max_y = get_board_coordinates(xyxy)\n",
        "print(f\"Crop coordinates: ({min_x}, {min_y}), ({max_x}, {max_y})\")"
      ]
    },
    {
      "cell_type": "code",
      "execution_count": 98,
      "metadata": {},
      "outputs": [
        {
          "name": "stdout",
          "output_type": "stream",
          "text": [
            "1772 ,  1772\n"
          ]
        }
      ],
      "source": [
        "img = Image.open(image_path)\n",
        "width, height = img.size\n",
        "print(width, ', ', height)"
      ]
    },
    {
      "cell_type": "code",
      "execution_count": 99,
      "metadata": {},
      "outputs": [
        {
          "name": "stdout",
          "output_type": "stream",
          "text": [
            "265.12646484375 ,  138.3533935546875 ,  148.9334716796875 ,  181.83790588378906\n"
          ]
        }
      ],
      "source": [
        "lm = min_x\n",
        "rm = width - max_x\n",
        "bm = min_y\n",
        "tm = height - max_y\n",
        "print(tm, ', ', rm, ', ', bm, ', ', lm)\n"
      ]
    },
    {
      "cell_type": "code",
      "execution_count": 100,
      "metadata": {},
      "outputs": [
        {
          "data": {
            "text/plain": [
              "(1451.8087005615234, 1357.9400634765625)"
            ]
          },
          "execution_count": 100,
          "metadata": {},
          "output_type": "execute_result"
        }
      ],
      "source": [
        "new_shape = ((width - (lm + rm)), (height - (tm + bm)))\n",
        "new_shape"
      ]
    },
    {
      "cell_type": "code",
      "execution_count": 101,
      "metadata": {},
      "outputs": [],
      "source": [
        "# # Open the image using Pillow\n",
        "# img = Image.open(image_path)\n",
        "\n",
        "# # Crop the image\n",
        "# cropped_img = img.crop((min_x, min_y, max_x, max_y))\n",
        "\n",
        "# # Save the cropped image\n",
        "# cropped_img.save('cropped_image.JPEG')\n",
        "# print(\"Cropped image saved as 'cropped_image.JPEG'.\")"
      ]
    },
    {
      "cell_type": "code",
      "execution_count": 102,
      "metadata": {},
      "outputs": [],
      "source": [
        "# predict based on cropped\n",
        "# results = model.predict(cropped_img, conf=0.05)\n",
        "# results[0].show()"
      ]
    },
    {
      "cell_type": "code",
      "execution_count": 103,
      "metadata": {},
      "outputs": [],
      "source": [
        "grid_rows = grid_cols = 8\n",
        "\n",
        "# Create a grid for spaces (reversed order)\n",
        "def create_grid(grid_rows, grid_cols):\n",
        "    spaces = []\n",
        "    for i in range(grid_rows):\n",
        "        for j in range(grid_cols):\n",
        "            spaces.append(f\"{chr(72 - i)}{j + 1}\")  # Start from 'H' (72 in ASCII)\n",
        "    return spaces\n",
        "spaces = create_grid(grid_rows, grid_cols)"
      ]
    },
    {
      "cell_type": "code",
      "execution_count": 104,
      "metadata": {},
      "outputs": [],
      "source": [
        "# Map detections to cells (reversed grid)\n",
        "def map_detections_to_spaces(boxes, spaces, classes, frame_shape, grid_rows, grid_cols):\n",
        "    # Initialize all spaces to \"initial\"\n",
        "    occupancy = {space: \"initial\" for space in spaces}\n",
        "    index = 0\n",
        "    row_ratio = grid_rows / frame_shape[0]\n",
        "    col_ratio = grid_cols / frame_shape[1]\n",
        "\n",
        "    row_size = 1 / row_ratio\n",
        "    cells = []\n",
        "    for box in boxes:\n",
        "        # Calculate the center of the box\n",
        "        # x_center = (box[0] + box[2]) / 2\n",
        "        x_center = ((box[0] + box[2]) / 2) + ( 0.25 * row_size) - lm\n",
        "        y_center = ((box[1] + box[3]) / 2) - bm\n",
        "\n",
        "\n",
        "        # Calculate row and column indices\n",
        "        row = int(y_center * row_ratio)\n",
        "        col = int(x_center * col_ratio)\n",
        "\n",
        "        # Clamp row and column indices to valid grid bounds\n",
        "        row = max(0, min(row, grid_rows - 1))  # Ensure 0 <= row < grid_rows\n",
        "        col = max(0, min(col, grid_cols - 1))  # Ensure 0 <= col < grid_cols\n",
        "\n",
        "        # Map to a space identifier, reversed for rows\n",
        "        space = f\"{chr(72 - row)}{col + 1}\"  # Reverse row index to start from 'H' (72)\n",
        "        occupancy[space] = classes[index]\n",
        "        cells.append(f'box{index}: class: {classes[index]}, space: {space}')\n",
        "        index += 1\n",
        "        \n",
        "    return occupancy, cells\n",
        "    "
      ]
    },
    {
      "cell_type": "code",
      "execution_count": 105,
      "metadata": {},
      "outputs": [],
      "source": [
        "boxes = results[0].boxes.xyxy.cpu().numpy() if results else []\n",
        "\n",
        "predicted_classes = results[0].boxes.cls  # `cls` contains the class indices\n",
        "class_names = model.names  # Assuming the model has a `names` attribute for class labels\n",
        "predicted_class_names = [class_names[int(cls_idx)] for cls_idx in predicted_classes]"
      ]
    },
    {
      "cell_type": "code",
      "execution_count": 106,
      "metadata": {},
      "outputs": [
        {
          "name": "stdout",
          "output_type": "stream",
          "text": [
            "box11: class: white, space: H5\n",
            "box31: class: white, space: H2\n",
            "box42: class: empty, space: H3\n",
            "box49: class: empty, space: H7\n",
            "box51: class: empty, space: H1\n",
            "box53: class: empty, space: H6\n",
            "box59: class: black, space: H8\n",
            "box63: class: black, space: H8\n"
          ]
        },
        {
          "data": {
            "text/plain": [
              "64"
            ]
          },
          "execution_count": 106,
          "metadata": {},
          "output_type": "execute_result"
        }
      ],
      "source": [
        "occupancy, cells = map_detections_to_spaces(boxes, spaces, predicted_class_names, new_shape, 8, 8)\n",
        "occupancy['B8']\n",
        "for c in cells:\n",
        "    if 'H' in c:\n",
        "        print(c)\n",
        "len(cells)"
      ]
    },
    {
      "cell_type": "code",
      "execution_count": 107,
      "metadata": {},
      "outputs": [
        {
          "name": "stdout",
          "output_type": "stream",
          "text": [
            "['empty', 'white', 'empty', 'initial', 'white', 'empty', 'empty', 'black']\n",
            "['white', 'white', 'empty', 'initial', 'empty', 'empty', 'empty', 'black']\n",
            "['white', 'white', 'white', 'initial', 'empty', 'white', 'empty', 'black']\n",
            "['white', 'empty', 'initial', 'white', 'black', 'empty', 'empty', 'black']\n",
            "['empty', 'white', 'initial', 'empty', 'empty', 'black', 'empty', 'empty']\n",
            "['white', 'empty', 'initial', 'empty', 'black', 'empty', 'empty', 'black']\n",
            "['empty', 'black', 'initial', 'empty', 'black', 'black', 'empty', 'empty']\n",
            "['initial', 'initial', 'initial', 'initial', 'initial', 'initial', 'initial', 'initial']\n"
          ]
        }
      ],
      "source": [
        "def map_occupancy_to_board_status(occupancy):\n",
        "    # Mapping rows and columns to a 2D array\n",
        "    rows = ['H', 'G', 'F', 'E', 'D', 'C', 'B', 'A']\n",
        "    columns = ['1', '2', '3', '4', '5', '6', '7', '8']\n",
        "\n",
        "    new_board_status = []\n",
        "\n",
        "    for row in rows:\n",
        "        row_data = []\n",
        "        for col in columns:\n",
        "            key = f\"{row}{col}\"\n",
        "            cell_value = occupancy[key]\n",
        "            row_data.append(cell_value)\n",
        "        new_board_status.append(row_data)\n",
        "    \n",
        "    return new_board_status\n",
        "\n",
        "new_board_status = map_occupancy_to_board_status(occupancy)\n",
        "\n",
        "# Print the resulting 2D array\n",
        "for row in new_board_status:\n",
        "    print(row)"
      ]
    },
    {
      "cell_type": "code",
      "execution_count": 113,
      "metadata": {},
      "outputs": [],
      "source": [
        "import numpy as np\n",
        "import cv2\n",
        "def create_occupancy_map(occupancy, grid_rows, grid_cols, map_shape=(480, 640, 3)):\n",
        "    occ_map = np.full(map_shape, (25, 25, 75), dtype=np.uint8)\n",
        "\n",
        "    for i, row in enumerate(range(65, 65 + grid_rows)):\n",
        "        for j in range(grid_cols):\n",
        "            space = f\"{chr(72 - i)}{j + 1}\"  # Reverse row to start from 'H' (72)\n",
        "            x1 = 10 + j * (map_shape[1] - 20) // grid_cols\n",
        "            y1 = 10 + i * (map_shape[0] - 20) // grid_rows\n",
        "            x2 = 10 + (j + 1) * (map_shape[1] - 20) // grid_cols\n",
        "            y2 = 10 + (i + 1) * (map_shape[0] - 20) // grid_rows\n",
        "\n",
        "            # Define a mapping of class to color\n",
        "            class_to_color = {\n",
        "                \"empty\": (0, 255, 0),    # Green\n",
        "                \"black\": (0, 0, 0),      # Black\n",
        "                \"white\": (255, 0, 255),  # White\n",
        "                \"initial\": (255, 100, 0) # Yellow\n",
        "            }\n",
        "            color = class_to_color.get(occupancy[space], (128, 128, 128))  # Default color\n",
        "\n",
        "            cv2.rectangle(occ_map, (x1, y1), (x2, y2), color, -1)\n",
        "            cv2.putText(occ_map, space, (x1 + 5, y1 + 15), cv2.FONT_HERSHEY_SIMPLEX, 0.5, (255, 255, 255), 1)\n",
        "\n",
        "    return occ_map"
      ]
    },
    {
      "cell_type": "code",
      "execution_count": 120,
      "metadata": {},
      "outputs": [
        {
          "data": {
            "image/png": "[encoded data removed]",
            "text/plain": [
              "<Figure size 640x480 with 1 Axes>"
            ]
          },
          "metadata": {},
          "output_type": "display_data"
        }
      ],
      "source": [
        "import matplotlib.pyplot as plt\n",
        "oc_map = create_occupancy_map(occupancy, 8, 8)\n",
        "\n",
        "plt.imshow(oc_map)\n",
        "plt.axis('off')\n",
        "plt.show()\n"
      ]
    },
    {
      "cell_type": "code",
      "execution_count": null,
      "metadata": {},
      "outputs": [],
      "source": []
    }
  ],
  "metadata": {
    "accelerator": "GPU",
    "colab": {
      "gpuType": "T4",
      "provenance": []
    },
    "kernelspec": {
      "display_name": "Python 3",
      "name": "python3"
    },
    "language_info": {
      "codemirror_mode": {
        "name": "ipython",
        "version": 3
      },
      "file_extension": ".py",
      "mimetype": "text/x-python",
      "name": "python",
      "nbconvert_exporter": "python",
      "pygments_lexer": "ipython3",
      "version": "3.12.7"
    }
  },
  "nbformat": 4,
  "nbformat_minor": 0
}
